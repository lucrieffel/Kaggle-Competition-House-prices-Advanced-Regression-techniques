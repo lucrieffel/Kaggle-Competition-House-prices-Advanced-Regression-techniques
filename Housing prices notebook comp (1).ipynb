{
 "cells": [
  {
   "cell_type": "code",
   "execution_count": 381,
   "metadata": {
    "_cell_guid": "b1076dfc-b9ad-4769-8c92-a6c4dae69d19",
    "_uuid": "8f2839f25d086af736a60e9eeb907d3b93b6e0e5"
   },
   "outputs": [],
   "source": [
    "# I used this youtube link as a reference as I wrote my code for this project \n",
    "#https://www.youtube.com/watch?v=vtm35gVP8JU\n",
    "#and this article from towards data science\n",
    "#https://towardsdatascience.com/selecting-the-best-machine-learning-algorithm-for-your-regression-problem-20c330bad4ef\n",
    "\n",
    "import numpy as np # linear algebra\n",
    "import pandas as pd # data processing, CSV file I/O (e.g. pd.read_csv)\n",
    "df = pd.read_csv('housing_prices_train.csv')\n",
    "#we are importing our test data after we have cleaned it\n",
    "test_df = pd.read_csv('cleaned_test_data_kag.csv')\n",
    "\n",
    "from sklearn.ensemble import RandomForestRegressor"
   ]
  },
  {
   "cell_type": "code",
   "execution_count": 382,
   "metadata": {},
   "outputs": [],
   "source": [
    "df['LotFrontage']=df['LotFrontage'].fillna(df['LotFrontage'].mean())\n",
    "df.drop(['Alley'],axis=1,inplace=True)\n",
    "df['BsmtCond']=df['BsmtCond'].fillna(df['BsmtCond'].mode()[0])\n",
    "df['BsmtQual']=df['BsmtQual'].fillna(df['BsmtQual'].mode()[0])\n",
    "df['FireplaceQu']=df['FireplaceQu'].fillna(df['FireplaceQu'].mode()[0])\n",
    "df['GarageType']=df['GarageType'].fillna(df['GarageType'].mode()[0])\n",
    "df.drop(['GarageYrBlt'],axis=1,inplace=True)\n",
    "df['GarageFinish']=df['GarageFinish'].fillna(df['GarageFinish'].mode()[0])\n",
    "df['GarageQual']=df['GarageQual'].fillna(df['GarageQual'].mode()[0])\n",
    "df['GarageCond']=df['GarageCond'].fillna(df['GarageCond'].mode()[0])\n",
    "df['MasVnrType']=df['MasVnrType'].fillna(df['MasVnrType'].mode()[0])\n",
    "df['MasVnrArea']=df['MasVnrArea'].fillna(df['MasVnrArea'].mode()[0])\n",
    "df['BsmtExposure']=df['BsmtExposure'].fillna(df['BsmtExposure'].mode()[0])\n",
    "df['BsmtFinType2']=df['BsmtFinType2'].fillna(df['BsmtFinType2'].mode()[0])\n",
    "df.drop(['PoolQC','Fence','MiscFeature'],axis=1,inplace=True)\n",
    "df.dropna(inplace = True)"
   ]
  },
  {
   "cell_type": "code",
   "execution_count": 383,
   "metadata": {},
   "outputs": [],
   "source": [
    "#categorical columns(features)\n",
    "columns=['MSZoning','Street','LotShape','LandContour','Utilities','LotConfig','LandSlope','Neighborhood',\n",
    "         'Condition2','BldgType','Condition1','HouseStyle','SaleType',\n",
    "        'SaleCondition','ExterCond',\n",
    "         'ExterQual','Foundation','BsmtQual','BsmtCond','BsmtExposure','BsmtFinType1','BsmtFinType2',\n",
    "        'RoofStyle','RoofMatl','Exterior1st','Exterior2nd','MasVnrType','Heating','HeatingQC',\n",
    "         'CentralAir',\n",
    "         'Electrical','KitchenQual','Functional',\n",
    "         'FireplaceQu','GarageType','GarageFinish','GarageQual','GarageCond','PavedDrive']\n",
    "\n"
   ]
  },
  {
   "cell_type": "code",
   "execution_count": 384,
   "metadata": {},
   "outputs": [],
   "source": [
    "#Function that takes each categorical feature that gets dummy data for each categorical feature in the dataset\n",
    "def category_onehot_multcols(multcolumns):\n",
    "    df_final=final_df\n",
    "    i=0\n",
    "    for fields in multcolumns:\n",
    "        \n",
    "        print(fields)\n",
    "        df1=pd.get_dummies(final_df[fields],drop_first=True)\n",
    "        \n",
    "        final_df.drop([fields],axis=1,inplace=True)\n",
    "        if i==0:\n",
    "            df_final=df1.copy()\n",
    "        else:\n",
    "            \n",
    "            df_final=pd.concat([df_final,df1],axis=1)\n",
    "        i=i+1\n",
    "       \n",
    "        \n",
    "    df_final=pd.concat([final_df,df_final],axis=1)\n",
    "        \n",
    "    return df_final\n",
    "\n",
    "main_df = df.copy()"
   ]
  },
  {
   "cell_type": "code",
   "execution_count": 385,
   "metadata": {},
   "outputs": [
    {
     "data": {
      "text/html": [
       "<div>\n",
       "<style scoped>\n",
       "    .dataframe tbody tr th:only-of-type {\n",
       "        vertical-align: middle;\n",
       "    }\n",
       "\n",
       "    .dataframe tbody tr th {\n",
       "        vertical-align: top;\n",
       "    }\n",
       "\n",
       "    .dataframe thead th {\n",
       "        text-align: right;\n",
       "    }\n",
       "</style>\n",
       "<table border=\"1\" class=\"dataframe\">\n",
       "  <thead>\n",
       "    <tr style=\"text-align: right;\">\n",
       "      <th></th>\n",
       "    </tr>\n",
       "  </thead>\n",
       "  <tbody>\n",
       "    <tr>\n",
       "      <th>0</th>\n",
       "    </tr>\n",
       "    <tr>\n",
       "      <th>1</th>\n",
       "    </tr>\n",
       "    <tr>\n",
       "      <th>2</th>\n",
       "    </tr>\n",
       "    <tr>\n",
       "      <th>3</th>\n",
       "    </tr>\n",
       "    <tr>\n",
       "      <th>4</th>\n",
       "    </tr>\n",
       "  </tbody>\n",
       "</table>\n",
       "</div>"
      ],
      "text/plain": [
       "Empty DataFrame\n",
       "Columns: []\n",
       "Index: [0, 1, 2, 3, 4]"
      ]
     },
     "execution_count": 385,
     "metadata": {},
     "output_type": "execute_result"
    }
   ],
   "source": [
    "test_df.loc[:, test_df.isnull().any()].head()"
   ]
  },
  {
   "cell_type": "code",
   "execution_count": 386,
   "metadata": {},
   "outputs": [
    {
     "data": {
      "text/plain": [
       "0          1\n",
       "1          2\n",
       "2          3\n",
       "3          4\n",
       "4          5\n",
       "        ... \n",
       "1455    1456\n",
       "1456    1457\n",
       "1457    1458\n",
       "1458    1459\n",
       "1459    1460\n",
       "Name: Id, Length: 1422, dtype: int64"
      ]
     },
     "execution_count": 386,
     "metadata": {},
     "output_type": "execute_result"
    }
   ],
   "source": [
    "df.Id"
   ]
  },
  {
   "cell_type": "code",
   "execution_count": 387,
   "metadata": {},
   "outputs": [
    {
     "data": {
      "text/plain": [
       "(1459, 75)"
      ]
     },
     "execution_count": 387,
     "metadata": {},
     "output_type": "execute_result"
    }
   ],
   "source": [
    "test_df.dropna(inplace = True)\n",
    "test_df.shape"
   ]
  },
  {
   "cell_type": "code",
   "execution_count": 388,
   "metadata": {},
   "outputs": [],
   "source": [
    "final_df = pd.concat([df, test_df], axis = 0)"
   ]
  },
  {
   "cell_type": "code",
   "execution_count": 389,
   "metadata": {},
   "outputs": [
    {
     "data": {
      "text/plain": [
       "(2881, 76)"
      ]
     },
     "execution_count": 389,
     "metadata": {},
     "output_type": "execute_result"
    }
   ],
   "source": [
    "final_df.shape"
   ]
  },
  {
   "cell_type": "code",
   "execution_count": 390,
   "metadata": {},
   "outputs": [
    {
     "name": "stdout",
     "output_type": "stream",
     "text": [
      "MSZoning\n",
      "Street\n",
      "LotShape\n",
      "LandContour\n",
      "Utilities\n",
      "LotConfig\n",
      "LandSlope\n",
      "Neighborhood\n",
      "Condition2\n",
      "BldgType\n",
      "Condition1\n",
      "HouseStyle\n",
      "SaleType\n",
      "SaleCondition\n",
      "ExterCond\n",
      "ExterQual\n",
      "Foundation\n",
      "BsmtQual\n",
      "BsmtCond\n",
      "BsmtExposure\n",
      "BsmtFinType1\n",
      "BsmtFinType2\n",
      "RoofStyle\n",
      "RoofMatl\n",
      "Exterior1st\n",
      "Exterior2nd\n",
      "MasVnrType\n",
      "Heating\n",
      "HeatingQC\n",
      "CentralAir\n",
      "Electrical\n",
      "KitchenQual\n",
      "Functional\n",
      "FireplaceQu\n",
      "GarageType\n",
      "GarageFinish\n",
      "GarageQual\n",
      "GarageCond\n",
      "PavedDrive\n"
     ]
    }
   ],
   "source": [
    "#Use our function above to convert our categorical variables into dummy variables ot \n",
    "final_df=category_onehot_multcols(columns)"
   ]
  },
  {
   "cell_type": "code",
   "execution_count": 391,
   "metadata": {},
   "outputs": [],
   "source": [
    "final_df =final_df.loc[:,~final_df.columns.duplicated()]\n"
   ]
  },
  {
   "cell_type": "code",
   "execution_count": 392,
   "metadata": {},
   "outputs": [
    {
     "data": {
      "text/plain": [
       "(2881, 176)"
      ]
     },
     "execution_count": 392,
     "metadata": {},
     "output_type": "execute_result"
    }
   ],
   "source": [
    "final_df.shape"
   ]
  },
  {
   "cell_type": "code",
   "execution_count": 393,
   "metadata": {},
   "outputs": [],
   "source": [
    "df_train=final_df.iloc[:1422,:]\n",
    "df_test=final_df.iloc[1422:,:]"
   ]
  },
  {
   "cell_type": "code",
   "execution_count": 394,
   "metadata": {},
   "outputs": [
    {
     "data": {
      "text/plain": [
       "0          1\n",
       "1          2\n",
       "2          3\n",
       "3          4\n",
       "4          5\n",
       "        ... \n",
       "1454    2915\n",
       "1455    2916\n",
       "1456    2917\n",
       "1457    2918\n",
       "1458    2919\n",
       "Name: Id, Length: 2881, dtype: int64"
      ]
     },
     "execution_count": 394,
     "metadata": {},
     "output_type": "execute_result"
    }
   ],
   "source": [
    "final_df.Id"
   ]
  },
  {
   "cell_type": "code",
   "execution_count": 395,
   "metadata": {},
   "outputs": [],
   "source": [
    "X_train=df_train.drop(['SalePrice'],axis=1)\n",
    "y_train=df_train['SalePrice']"
   ]
  },
  {
   "cell_type": "code",
   "execution_count": null,
   "metadata": {},
   "outputs": [],
   "source": []
  },
  {
   "cell_type": "code",
   "execution_count": 396,
   "metadata": {},
   "outputs": [
    {
     "data": {
      "text/html": [
       "<div>\n",
       "<style scoped>\n",
       "    .dataframe tbody tr th:only-of-type {\n",
       "        vertical-align: middle;\n",
       "    }\n",
       "\n",
       "    .dataframe tbody tr th {\n",
       "        vertical-align: top;\n",
       "    }\n",
       "\n",
       "    .dataframe thead th {\n",
       "        text-align: right;\n",
       "    }\n",
       "</style>\n",
       "<table border=\"1\" class=\"dataframe\">\n",
       "  <thead>\n",
       "    <tr style=\"text-align: right;\">\n",
       "      <th></th>\n",
       "      <th>SalePrice</th>\n",
       "    </tr>\n",
       "  </thead>\n",
       "  <tbody>\n",
       "    <tr>\n",
       "      <th>0</th>\n",
       "      <td>208500.0</td>\n",
       "    </tr>\n",
       "    <tr>\n",
       "      <th>1</th>\n",
       "      <td>181500.0</td>\n",
       "    </tr>\n",
       "    <tr>\n",
       "      <th>2</th>\n",
       "      <td>223500.0</td>\n",
       "    </tr>\n",
       "    <tr>\n",
       "      <th>3</th>\n",
       "      <td>140000.0</td>\n",
       "    </tr>\n",
       "    <tr>\n",
       "      <th>4</th>\n",
       "      <td>250000.0</td>\n",
       "    </tr>\n",
       "    <tr>\n",
       "      <th>5</th>\n",
       "      <td>143000.0</td>\n",
       "    </tr>\n",
       "    <tr>\n",
       "      <th>6</th>\n",
       "      <td>307000.0</td>\n",
       "    </tr>\n",
       "    <tr>\n",
       "      <th>7</th>\n",
       "      <td>200000.0</td>\n",
       "    </tr>\n",
       "    <tr>\n",
       "      <th>8</th>\n",
       "      <td>129900.0</td>\n",
       "    </tr>\n",
       "    <tr>\n",
       "      <th>9</th>\n",
       "      <td>118000.0</td>\n",
       "    </tr>\n",
       "    <tr>\n",
       "      <th>10</th>\n",
       "      <td>129500.0</td>\n",
       "    </tr>\n",
       "    <tr>\n",
       "      <th>11</th>\n",
       "      <td>345000.0</td>\n",
       "    </tr>\n",
       "    <tr>\n",
       "      <th>12</th>\n",
       "      <td>144000.0</td>\n",
       "    </tr>\n",
       "    <tr>\n",
       "      <th>13</th>\n",
       "      <td>279500.0</td>\n",
       "    </tr>\n",
       "    <tr>\n",
       "      <th>14</th>\n",
       "      <td>157000.0</td>\n",
       "    </tr>\n",
       "    <tr>\n",
       "      <th>15</th>\n",
       "      <td>132000.0</td>\n",
       "    </tr>\n",
       "    <tr>\n",
       "      <th>16</th>\n",
       "      <td>149000.0</td>\n",
       "    </tr>\n",
       "    <tr>\n",
       "      <th>18</th>\n",
       "      <td>159000.0</td>\n",
       "    </tr>\n",
       "    <tr>\n",
       "      <th>19</th>\n",
       "      <td>139000.0</td>\n",
       "    </tr>\n",
       "    <tr>\n",
       "      <th>20</th>\n",
       "      <td>325300.0</td>\n",
       "    </tr>\n",
       "  </tbody>\n",
       "</table>\n",
       "</div>"
      ],
      "text/plain": [
       "    SalePrice\n",
       "0    208500.0\n",
       "1    181500.0\n",
       "2    223500.0\n",
       "3    140000.0\n",
       "4    250000.0\n",
       "5    143000.0\n",
       "6    307000.0\n",
       "7    200000.0\n",
       "8    129900.0\n",
       "9    118000.0\n",
       "10   129500.0\n",
       "11   345000.0\n",
       "12   144000.0\n",
       "13   279500.0\n",
       "14   157000.0\n",
       "15   132000.0\n",
       "16   149000.0\n",
       "18   159000.0\n",
       "19   139000.0\n",
       "20   325300.0"
      ]
     },
     "execution_count": 396,
     "metadata": {},
     "output_type": "execute_result"
    }
   ],
   "source": [
    "#now we have removed all null values except for the sale prices and combined both our train and test dataset into one, now \n",
    "final_df.loc[:, final_df.isnull().any()].head(20)"
   ]
  },
  {
   "cell_type": "code",
   "execution_count": 397,
   "metadata": {},
   "outputs": [
    {
     "data": {
      "text/plain": [
       "0     208500.0\n",
       "1     181500.0\n",
       "2     223500.0\n",
       "3     140000.0\n",
       "4     250000.0\n",
       "5     143000.0\n",
       "6     307000.0\n",
       "7     200000.0\n",
       "8     129900.0\n",
       "9     118000.0\n",
       "10    129500.0\n",
       "11    345000.0\n",
       "12    144000.0\n",
       "13    279500.0\n",
       "14    157000.0\n",
       "15    132000.0\n",
       "16    149000.0\n",
       "18    159000.0\n",
       "19    139000.0\n",
       "20    325300.0\n",
       "Name: SalePrice, dtype: float64"
      ]
     },
     "execution_count": 397,
     "metadata": {},
     "output_type": "execute_result"
    }
   ],
   "source": [
    "final_df['SalePrice'].head(20)"
   ]
  },
  {
   "cell_type": "code",
   "execution_count": 398,
   "metadata": {},
   "outputs": [
    {
     "data": {
      "text/plain": [
       "(1422, 176)"
      ]
     },
     "execution_count": 398,
     "metadata": {},
     "output_type": "execute_result"
    }
   ],
   "source": [
    "df_train.shape"
   ]
  },
  {
   "cell_type": "code",
   "execution_count": 399,
   "metadata": {},
   "outputs": [
    {
     "data": {
      "text/plain": [
       "(1422, 175)"
      ]
     },
     "execution_count": 399,
     "metadata": {},
     "output_type": "execute_result"
    }
   ],
   "source": [
    "X_train.shape"
   ]
  },
  {
   "cell_type": "code",
   "execution_count": 400,
   "metadata": {},
   "outputs": [],
   "source": [
    "from sklearn.model_selection import RandomizedSearchCV"
   ]
  },
  {
   "cell_type": "code",
   "execution_count": 401,
   "metadata": {},
   "outputs": [],
   "source": [
    "rf = RandomForestRegressor(random_state = 42)"
   ]
  },
  {
   "cell_type": "code",
   "execution_count": 402,
   "metadata": {},
   "outputs": [
    {
     "name": "stdout",
     "output_type": "stream",
     "text": [
      "0       208500.0\n",
      "1       181500.0\n",
      "2       223500.0\n",
      "3       140000.0\n",
      "4       250000.0\n",
      "          ...   \n",
      "1455    175000.0\n",
      "1456    210000.0\n",
      "1457    266500.0\n",
      "1458    142125.0\n",
      "1459    147500.0\n",
      "Name: SalePrice, Length: 1422, dtype: float64\n"
     ]
    }
   ],
   "source": [
    "print(y_train)"
   ]
  },
  {
   "cell_type": "code",
   "execution_count": 403,
   "metadata": {},
   "outputs": [],
   "source": [
    "# Number of trees in random forest\n",
    "n_estimators = [int(x) for x in np.linspace(start = 200, stop = 2000, num = 10)]\n",
    "# Number of features to consider at every split\n",
    "max_features = ['auto', 'sqrt']\n",
    "# Maximum number of levels in tree\n",
    "max_depth = [int(x) for x in np.linspace(10, 110, num = 11)]\n",
    "max_depth.append(None)\n",
    "# Minimum number of samples required to split a node\n",
    "min_samples_split = [2, 5, 10]\n",
    "# Minimum number of samples required at each leaf node\n",
    "min_samples_leaf = [1, 2, 4]\n",
    "# Method of selecting samples for training each tree\n",
    "bootstrap = [True, False]\n",
    "\n",
    "# Create the random grid\n",
    "random_grid = {'n_estimators': n_estimators,\n",
    "               'max_features': max_features,\n",
    "               'max_depth': max_depth,\n",
    "               'min_samples_split': min_samples_split,\n",
    "               'min_samples_leaf': min_samples_leaf,\n",
    "               'bootstrap': bootstrap}"
   ]
  },
  {
   "cell_type": "code",
   "execution_count": 404,
   "metadata": {},
   "outputs": [],
   "source": [
    "random_cv = RandomizedSearchCV(estimator=rf,\n",
    "            param_distributions=hyperparameter_grid,\n",
    "            cv=3, n_iter=50,\n",
    "            scoring = 'neg_mean_absolute_error',n_jobs = 4,\n",
    "            verbose = 5, \n",
    "            return_train_score = True,\n",
    "            random_state=42)"
   ]
  },
  {
   "cell_type": "code",
   "execution_count": 405,
   "metadata": {},
   "outputs": [
    {
     "name": "stdout",
     "output_type": "stream",
     "text": [
      "Fitting 3 folds for each of 50 candidates, totalling 150 fits\n"
     ]
    },
    {
     "name": "stderr",
     "output_type": "stream",
     "text": [
      "[Parallel(n_jobs=4)]: Using backend LokyBackend with 4 concurrent workers.\n",
      "[Parallel(n_jobs=4)]: Done  10 tasks      | elapsed:    2.7s\n",
      "[Parallel(n_jobs=4)]: Done  64 tasks      | elapsed:   17.6s\n",
      "[Parallel(n_jobs=4)]: Done 150 out of 150 | elapsed:   34.4s finished\n"
     ]
    },
    {
     "data": {
      "text/plain": [
       "RandomizedSearchCV(cv=3, error_score=nan,\n",
       "                   estimator=RandomForestRegressor(bootstrap=True,\n",
       "                                                   ccp_alpha=0.0,\n",
       "                                                   criterion='mse',\n",
       "                                                   max_depth=None,\n",
       "                                                   max_features='auto',\n",
       "                                                   max_leaf_nodes=None,\n",
       "                                                   max_samples=None,\n",
       "                                                   min_impurity_decrease=0.0,\n",
       "                                                   min_impurity_split=None,\n",
       "                                                   min_samples_leaf=1,\n",
       "                                                   min_samples_split=2,\n",
       "                                                   min_weight_fraction_leaf=0.0,\n",
       "                                                   n_estimators=100,\n",
       "                                                   n_jobs=None, oob_score=Fals...\n",
       "                   param_distributions={'bootstrap': [True, False],\n",
       "                                        'max_depth': [10, 20, 30, 40, 50, 60,\n",
       "                                                      70, 80, 90, 100, 110],\n",
       "                                        'max_features': ['auto', 'sqrt',\n",
       "                                                         'log2'],\n",
       "                                        'min_samples_leaf': [1, 2, 4],\n",
       "                                        'min_samples_split': [2, 5],\n",
       "                                        'n_estimators': [10, 42, 74, 106, 138,\n",
       "                                                         171, 203, 235, 267,\n",
       "                                                         300]},\n",
       "                   pre_dispatch='2*n_jobs', random_state=42, refit=True,\n",
       "                   return_train_score=True, scoring='neg_mean_absolute_error',\n",
       "                   verbose=5)"
      ]
     },
     "execution_count": 405,
     "metadata": {},
     "output_type": "execute_result"
    }
   ],
   "source": [
    "random_cv.fit(X_train, y_train)"
   ]
  },
  {
   "cell_type": "code",
   "execution_count": 406,
   "metadata": {},
   "outputs": [
    {
     "data": {
      "text/plain": [
       "RandomForestRegressor(bootstrap=False, ccp_alpha=0.0, criterion='mse',\n",
       "                      max_depth=90, max_features='sqrt', max_leaf_nodes=None,\n",
       "                      max_samples=None, min_impurity_decrease=0.0,\n",
       "                      min_impurity_split=None, min_samples_leaf=1,\n",
       "                      min_samples_split=2, min_weight_fraction_leaf=0.0,\n",
       "                      n_estimators=300, n_jobs=None, oob_score=False,\n",
       "                      random_state=42, verbose=0, warm_start=False)"
      ]
     },
     "execution_count": 406,
     "metadata": {},
     "output_type": "execute_result"
    }
   ],
   "source": [
    "random_cv.best_estimator_"
   ]
  },
  {
   "cell_type": "code",
   "execution_count": 407,
   "metadata": {},
   "outputs": [
    {
     "data": {
      "text/plain": [
       "-17263.67735583685"
      ]
     },
     "execution_count": 407,
     "metadata": {},
     "output_type": "execute_result"
    }
   ],
   "source": [
    "random_cv.best_score_"
   ]
  },
  {
   "cell_type": "code",
   "execution_count": 408,
   "metadata": {},
   "outputs": [
    {
     "data": {
      "text/plain": [
       "RandomForestRegressor(bootstrap=False, ccp_alpha=0.0, criterion='mse',\n",
       "                      max_depth=90, max_features='sqrt', max_leaf_nodes=None,\n",
       "                      max_samples=None, min_impurity_decrease=0.0,\n",
       "                      min_impurity_split=None, min_samples_leaf=1,\n",
       "                      min_samples_split=2, min_weight_fraction_leaf=0.0,\n",
       "                      n_estimators=300, n_jobs=None, oob_score=False,\n",
       "                      random_state=42, verbose=0, warm_start=False)"
      ]
     },
     "execution_count": 408,
     "metadata": {},
     "output_type": "execute_result"
    }
   ],
   "source": [
    "#random forest regressor best parameters \n",
    "RandomForestRegressor(bootstrap=False, ccp_alpha=0.0, criterion='mse',\n",
    "                      max_depth=90, max_features='sqrt', max_leaf_nodes=None,\n",
    "                      max_samples=None, min_impurity_decrease=0.0,\n",
    "                      min_impurity_split=None, min_samples_leaf=1,\n",
    "                      min_samples_split=2, min_weight_fraction_leaf=0.0,\n",
    "                      n_estimators=300, n_jobs=None, oob_score=False,\n",
    "                      random_state=42, verbose=0, warm_start=False)"
   ]
  },
  {
   "cell_type": "code",
   "execution_count": 409,
   "metadata": {},
   "outputs": [
    {
     "data": {
      "text/plain": [
       "{'mean_fit_time': array([0.53538529, 0.42350292, 1.78340459, 0.13123004, 0.27939455,\n",
       "        0.41428343, 0.24488473, 2.2868851 , 0.17165637, 0.19872467,\n",
       "        4.51040665, 0.92294407, 4.29995569, 0.21105027, 0.10383058,\n",
       "        0.43116768, 0.02409482, 2.94695306, 0.30900192, 0.58652393,\n",
       "        0.33805569, 0.03645897, 0.07738972, 0.48897664, 0.03080797,\n",
       "        0.02563993, 4.82924191, 0.01961613, 0.37166317, 0.26937993,\n",
       "        0.45129434, 0.47007195, 0.48150794, 0.98673407, 1.41933338,\n",
       "        0.02794433, 0.14355516, 0.01919961, 0.58454792, 0.10792486,\n",
       "        1.58709216, 0.18735504, 0.86377565, 0.03164172, 0.57483498,\n",
       "        0.37373773, 1.55314732, 0.02475937, 0.57452838, 3.70124141]),\n",
       " 'std_fit_time': array([1.45904553e-03, 1.05486273e-02, 2.36786261e-02, 4.15332661e-03,\n",
       "        2.62753760e-03, 2.04732230e-03, 3.42450093e-03, 5.60480793e-03,\n",
       "        2.09393047e-03, 1.16239955e-03, 4.48430247e-02, 5.64417907e-03,\n",
       "        1.18575378e-02, 7.60683758e-04, 9.75620556e-05, 5.23089556e-03,\n",
       "        9.21080618e-04, 2.73548770e-02, 1.49033312e-03, 1.38380866e-02,\n",
       "        1.74055978e-02, 5.09833069e-04, 1.72434844e-03, 5.16556216e-03,\n",
       "        1.66149503e-03, 1.20069315e-04, 1.63255020e-02, 6.17934075e-04,\n",
       "        1.35986580e-03, 3.88824495e-03, 4.94624409e-03, 4.68350234e-03,\n",
       "        4.16692812e-03, 4.08376411e-03, 1.45384500e-02, 2.03571588e-04,\n",
       "        2.43601903e-03, 1.38477822e-03, 9.59207597e-03, 2.93746418e-04,\n",
       "        1.00908705e-02, 2.74681324e-03, 1.09617762e-02, 1.05703265e-03,\n",
       "        4.22354433e-03, 1.76759811e-03, 6.93154513e-03, 3.59077922e-04,\n",
       "        4.18577007e-03, 1.27907836e-02]),\n",
       " 'mean_score_time': array([0.03221401, 0.02320759, 0.01931548, 0.00247725, 0.01772364,\n",
       "        0.0259459 , 0.01244052, 0.02539309, 0.01068664, 0.01369898,\n",
       "        0.0296433 , 0.0404036 , 0.02778323, 0.01399501, 0.00634352,\n",
       "        0.02947068, 0.0028247 , 0.02030174, 0.02072501, 0.03039861,\n",
       "        0.01682925, 0.00291125, 0.00562851, 0.03022639, 0.00274436,\n",
       "        0.00255338, 0.02976712, 0.00250324, 0.0228823 , 0.01703533,\n",
       "        0.00590396, 0.02993631, 0.00599734, 0.04430501, 0.01504612,\n",
       "        0.00316302, 0.00831771, 0.00241001, 0.02858233, 0.00785836,\n",
       "        0.01296457, 0.00304095, 0.01068989, 0.0027589 , 0.03008962,\n",
       "        0.02315187, 0.01643864, 0.0026261 , 0.03045042, 0.02231296]),\n",
       " 'std_score_time': array([5.23506844e-04, 7.71906954e-04, 7.99587314e-04, 5.93814911e-05,\n",
       "        6.74128138e-04, 1.27284711e-04, 2.09097066e-04, 9.22914518e-04,\n",
       "        4.16493897e-05, 1.46956815e-04, 3.02632984e-04, 4.57903101e-04,\n",
       "        1.09241267e-03, 5.28477152e-04, 4.33837806e-04, 1.51342647e-03,\n",
       "        1.08246995e-04, 1.91274815e-03, 1.24400134e-04, 6.33322086e-04,\n",
       "        5.12523682e-04, 1.42057242e-04, 8.17986159e-05, 1.11849225e-03,\n",
       "        1.40776206e-04, 4.17581291e-05, 3.27531847e-04, 2.01388053e-04,\n",
       "        5.26944016e-05, 4.94169974e-04, 3.78760612e-04, 6.99930140e-04,\n",
       "        2.64638632e-04, 3.25109025e-04, 9.56853891e-05, 4.46593165e-04,\n",
       "        8.89632553e-05, 8.49525096e-05, 6.40738565e-05, 4.46522051e-04,\n",
       "        9.34015169e-04, 5.78561753e-04, 6.25715509e-04, 4.30512631e-05,\n",
       "        1.81108033e-03, 5.80511820e-04, 2.18591426e-04, 1.04803220e-04,\n",
       "        6.83188382e-04, 4.71887704e-04]),\n",
       " 'param_n_estimators': masked_array(data=[300, 171, 203, 10, 171, 235, 106, 267, 74, 138, 267,\n",
       "                    300, 300, 138, 42, 300, 10, 171, 203, 300, 138, 10, 42,\n",
       "                    235, 10, 10, 267, 10, 171, 171, 42, 235, 42, 300, 138,\n",
       "                    10, 74, 10, 267, 42, 106, 10, 74, 10, 267, 235, 138,\n",
       "                    10, 300, 267],\n",
       "              mask=[False, False, False, False, False, False, False, False,\n",
       "                    False, False, False, False, False, False, False, False,\n",
       "                    False, False, False, False, False, False, False, False,\n",
       "                    False, False, False, False, False, False, False, False,\n",
       "                    False, False, False, False, False, False, False, False,\n",
       "                    False, False, False, False, False, False, False, False,\n",
       "                    False, False],\n",
       "        fill_value='?',\n",
       "             dtype=object),\n",
       " 'param_min_samples_split': masked_array(data=[2, 2, 2, 2, 2, 5, 5, 2, 2, 2, 2, 2, 5, 5, 5, 5, 5, 5,\n",
       "                    2, 2, 5, 2, 5, 5, 5, 5, 5, 5, 2, 5, 5, 5, 2, 2, 5, 2,\n",
       "                    5, 2, 2, 2, 2, 5, 5, 2, 5, 5, 2, 5, 2, 2],\n",
       "              mask=[False, False, False, False, False, False, False, False,\n",
       "                    False, False, False, False, False, False, False, False,\n",
       "                    False, False, False, False, False, False, False, False,\n",
       "                    False, False, False, False, False, False, False, False,\n",
       "                    False, False, False, False, False, False, False, False,\n",
       "                    False, False, False, False, False, False, False, False,\n",
       "                    False, False],\n",
       "        fill_value='?',\n",
       "             dtype=object),\n",
       " 'param_min_samples_leaf': masked_array(data=[2, 1, 4, 1, 2, 1, 2, 4, 1, 4, 2, 1, 4, 4, 2, 4, 1, 2,\n",
       "                    4, 4, 1, 1, 2, 1, 2, 2, 1, 4, 1, 4, 2, 1, 2, 1, 1, 1,\n",
       "                    4, 4, 4, 1, 2, 1, 1, 1, 2, 4, 2, 1, 4, 4],\n",
       "              mask=[False, False, False, False, False, False, False, False,\n",
       "                    False, False, False, False, False, False, False, False,\n",
       "                    False, False, False, False, False, False, False, False,\n",
       "                    False, False, False, False, False, False, False, False,\n",
       "                    False, False, False, False, False, False, False, False,\n",
       "                    False, False, False, False, False, False, False, False,\n",
       "                    False, False],\n",
       "        fill_value='?',\n",
       "             dtype=object),\n",
       " 'param_max_features': masked_array(data=['log2', 'log2', 'auto', 'auto', 'log2', 'log2', 'sqrt',\n",
       "                    'auto', 'log2', 'log2', 'auto', 'sqrt', 'auto', 'log2',\n",
       "                    'sqrt', 'log2', 'log2', 'auto', 'log2', 'sqrt', 'sqrt',\n",
       "                    'sqrt', 'log2', 'log2', 'sqrt', 'sqrt', 'auto', 'log2',\n",
       "                    'log2', 'log2', 'auto', 'log2', 'auto', 'sqrt', 'auto',\n",
       "                    'log2', 'sqrt', 'log2', 'sqrt', 'log2', 'auto', 'auto',\n",
       "                    'auto', 'sqrt', 'sqrt', 'log2', 'auto', 'sqrt', 'sqrt',\n",
       "                    'auto'],\n",
       "              mask=[False, False, False, False, False, False, False, False,\n",
       "                    False, False, False, False, False, False, False, False,\n",
       "                    False, False, False, False, False, False, False, False,\n",
       "                    False, False, False, False, False, False, False, False,\n",
       "                    False, False, False, False, False, False, False, False,\n",
       "                    False, False, False, False, False, False, False, False,\n",
       "                    False, False],\n",
       "        fill_value='?',\n",
       "             dtype=object),\n",
       " 'param_max_depth': masked_array(data=[10, 60, 110, 50, 20, 50, 70, 30, 50, 90, 80, 90, 90,\n",
       "                    20, 90, 10, 40, 70, 30, 70, 110, 30, 70, 90, 110, 20,\n",
       "                    20, 90, 100, 100, 20, 80, 100, 70, 10, 50, 110, 30, 20,\n",
       "                    80, 10, 110, 60, 20, 50, 50, 50, 10, 50, 80],\n",
       "              mask=[False, False, False, False, False, False, False, False,\n",
       "                    False, False, False, False, False, False, False, False,\n",
       "                    False, False, False, False, False, False, False, False,\n",
       "                    False, False, False, False, False, False, False, False,\n",
       "                    False, False, False, False, False, False, False, False,\n",
       "                    False, False, False, False, False, False, False, False,\n",
       "                    False, False],\n",
       "        fill_value='?',\n",
       "             dtype=object),\n",
       " 'param_bootstrap': masked_array(data=[True, True, True, True, True, True, False, True, False,\n",
       "                    False, False, False, False, True, False, False, False,\n",
       "                    False, False, True, True, False, True, False, False,\n",
       "                    True, False, True, True, True, True, False, True,\n",
       "                    False, True, False, True, False, False, False, False,\n",
       "                    False, True, True, True, True, True, True, True, False],\n",
       "              mask=[False, False, False, False, False, False, False, False,\n",
       "                    False, False, False, False, False, False, False, False,\n",
       "                    False, False, False, False, False, False, False, False,\n",
       "                    False, False, False, False, False, False, False, False,\n",
       "                    False, False, False, False, False, False, False, False,\n",
       "                    False, False, False, False, False, False, False, False,\n",
       "                    False, False],\n",
       "        fill_value='?',\n",
       "             dtype=object),\n",
       " 'params': [{'n_estimators': 300,\n",
       "   'min_samples_split': 2,\n",
       "   'min_samples_leaf': 2,\n",
       "   'max_features': 'log2',\n",
       "   'max_depth': 10,\n",
       "   'bootstrap': True},\n",
       "  {'n_estimators': 171,\n",
       "   'min_samples_split': 2,\n",
       "   'min_samples_leaf': 1,\n",
       "   'max_features': 'log2',\n",
       "   'max_depth': 60,\n",
       "   'bootstrap': True},\n",
       "  {'n_estimators': 203,\n",
       "   'min_samples_split': 2,\n",
       "   'min_samples_leaf': 4,\n",
       "   'max_features': 'auto',\n",
       "   'max_depth': 110,\n",
       "   'bootstrap': True},\n",
       "  {'n_estimators': 10,\n",
       "   'min_samples_split': 2,\n",
       "   'min_samples_leaf': 1,\n",
       "   'max_features': 'auto',\n",
       "   'max_depth': 50,\n",
       "   'bootstrap': True},\n",
       "  {'n_estimators': 171,\n",
       "   'min_samples_split': 2,\n",
       "   'min_samples_leaf': 2,\n",
       "   'max_features': 'log2',\n",
       "   'max_depth': 20,\n",
       "   'bootstrap': True},\n",
       "  {'n_estimators': 235,\n",
       "   'min_samples_split': 5,\n",
       "   'min_samples_leaf': 1,\n",
       "   'max_features': 'log2',\n",
       "   'max_depth': 50,\n",
       "   'bootstrap': True},\n",
       "  {'n_estimators': 106,\n",
       "   'min_samples_split': 5,\n",
       "   'min_samples_leaf': 2,\n",
       "   'max_features': 'sqrt',\n",
       "   'max_depth': 70,\n",
       "   'bootstrap': False},\n",
       "  {'n_estimators': 267,\n",
       "   'min_samples_split': 2,\n",
       "   'min_samples_leaf': 4,\n",
       "   'max_features': 'auto',\n",
       "   'max_depth': 30,\n",
       "   'bootstrap': True},\n",
       "  {'n_estimators': 74,\n",
       "   'min_samples_split': 2,\n",
       "   'min_samples_leaf': 1,\n",
       "   'max_features': 'log2',\n",
       "   'max_depth': 50,\n",
       "   'bootstrap': False},\n",
       "  {'n_estimators': 138,\n",
       "   'min_samples_split': 2,\n",
       "   'min_samples_leaf': 4,\n",
       "   'max_features': 'log2',\n",
       "   'max_depth': 90,\n",
       "   'bootstrap': False},\n",
       "  {'n_estimators': 267,\n",
       "   'min_samples_split': 2,\n",
       "   'min_samples_leaf': 2,\n",
       "   'max_features': 'auto',\n",
       "   'max_depth': 80,\n",
       "   'bootstrap': False},\n",
       "  {'n_estimators': 300,\n",
       "   'min_samples_split': 2,\n",
       "   'min_samples_leaf': 1,\n",
       "   'max_features': 'sqrt',\n",
       "   'max_depth': 90,\n",
       "   'bootstrap': False},\n",
       "  {'n_estimators': 300,\n",
       "   'min_samples_split': 5,\n",
       "   'min_samples_leaf': 4,\n",
       "   'max_features': 'auto',\n",
       "   'max_depth': 90,\n",
       "   'bootstrap': False},\n",
       "  {'n_estimators': 138,\n",
       "   'min_samples_split': 5,\n",
       "   'min_samples_leaf': 4,\n",
       "   'max_features': 'log2',\n",
       "   'max_depth': 20,\n",
       "   'bootstrap': True},\n",
       "  {'n_estimators': 42,\n",
       "   'min_samples_split': 5,\n",
       "   'min_samples_leaf': 2,\n",
       "   'max_features': 'sqrt',\n",
       "   'max_depth': 90,\n",
       "   'bootstrap': False},\n",
       "  {'n_estimators': 300,\n",
       "   'min_samples_split': 5,\n",
       "   'min_samples_leaf': 4,\n",
       "   'max_features': 'log2',\n",
       "   'max_depth': 10,\n",
       "   'bootstrap': False},\n",
       "  {'n_estimators': 10,\n",
       "   'min_samples_split': 5,\n",
       "   'min_samples_leaf': 1,\n",
       "   'max_features': 'log2',\n",
       "   'max_depth': 40,\n",
       "   'bootstrap': False},\n",
       "  {'n_estimators': 171,\n",
       "   'min_samples_split': 5,\n",
       "   'min_samples_leaf': 2,\n",
       "   'max_features': 'auto',\n",
       "   'max_depth': 70,\n",
       "   'bootstrap': False},\n",
       "  {'n_estimators': 203,\n",
       "   'min_samples_split': 2,\n",
       "   'min_samples_leaf': 4,\n",
       "   'max_features': 'log2',\n",
       "   'max_depth': 30,\n",
       "   'bootstrap': False},\n",
       "  {'n_estimators': 300,\n",
       "   'min_samples_split': 2,\n",
       "   'min_samples_leaf': 4,\n",
       "   'max_features': 'sqrt',\n",
       "   'max_depth': 70,\n",
       "   'bootstrap': True},\n",
       "  {'n_estimators': 138,\n",
       "   'min_samples_split': 5,\n",
       "   'min_samples_leaf': 1,\n",
       "   'max_features': 'sqrt',\n",
       "   'max_depth': 110,\n",
       "   'bootstrap': True},\n",
       "  {'n_estimators': 10,\n",
       "   'min_samples_split': 2,\n",
       "   'min_samples_leaf': 1,\n",
       "   'max_features': 'sqrt',\n",
       "   'max_depth': 30,\n",
       "   'bootstrap': False},\n",
       "  {'n_estimators': 42,\n",
       "   'min_samples_split': 5,\n",
       "   'min_samples_leaf': 2,\n",
       "   'max_features': 'log2',\n",
       "   'max_depth': 70,\n",
       "   'bootstrap': True},\n",
       "  {'n_estimators': 235,\n",
       "   'min_samples_split': 5,\n",
       "   'min_samples_leaf': 1,\n",
       "   'max_features': 'log2',\n",
       "   'max_depth': 90,\n",
       "   'bootstrap': False},\n",
       "  {'n_estimators': 10,\n",
       "   'min_samples_split': 5,\n",
       "   'min_samples_leaf': 2,\n",
       "   'max_features': 'sqrt',\n",
       "   'max_depth': 110,\n",
       "   'bootstrap': False},\n",
       "  {'n_estimators': 10,\n",
       "   'min_samples_split': 5,\n",
       "   'min_samples_leaf': 2,\n",
       "   'max_features': 'sqrt',\n",
       "   'max_depth': 20,\n",
       "   'bootstrap': True},\n",
       "  {'n_estimators': 267,\n",
       "   'min_samples_split': 5,\n",
       "   'min_samples_leaf': 1,\n",
       "   'max_features': 'auto',\n",
       "   'max_depth': 20,\n",
       "   'bootstrap': False},\n",
       "  {'n_estimators': 10,\n",
       "   'min_samples_split': 5,\n",
       "   'min_samples_leaf': 4,\n",
       "   'max_features': 'log2',\n",
       "   'max_depth': 90,\n",
       "   'bootstrap': True},\n",
       "  {'n_estimators': 171,\n",
       "   'min_samples_split': 2,\n",
       "   'min_samples_leaf': 1,\n",
       "   'max_features': 'log2',\n",
       "   'max_depth': 100,\n",
       "   'bootstrap': True},\n",
       "  {'n_estimators': 171,\n",
       "   'min_samples_split': 5,\n",
       "   'min_samples_leaf': 4,\n",
       "   'max_features': 'log2',\n",
       "   'max_depth': 100,\n",
       "   'bootstrap': True},\n",
       "  {'n_estimators': 42,\n",
       "   'min_samples_split': 5,\n",
       "   'min_samples_leaf': 2,\n",
       "   'max_features': 'auto',\n",
       "   'max_depth': 20,\n",
       "   'bootstrap': True},\n",
       "  {'n_estimators': 235,\n",
       "   'min_samples_split': 5,\n",
       "   'min_samples_leaf': 1,\n",
       "   'max_features': 'log2',\n",
       "   'max_depth': 80,\n",
       "   'bootstrap': False},\n",
       "  {'n_estimators': 42,\n",
       "   'min_samples_split': 2,\n",
       "   'min_samples_leaf': 2,\n",
       "   'max_features': 'auto',\n",
       "   'max_depth': 100,\n",
       "   'bootstrap': True},\n",
       "  {'n_estimators': 300,\n",
       "   'min_samples_split': 2,\n",
       "   'min_samples_leaf': 1,\n",
       "   'max_features': 'sqrt',\n",
       "   'max_depth': 70,\n",
       "   'bootstrap': False},\n",
       "  {'n_estimators': 138,\n",
       "   'min_samples_split': 5,\n",
       "   'min_samples_leaf': 1,\n",
       "   'max_features': 'auto',\n",
       "   'max_depth': 10,\n",
       "   'bootstrap': True},\n",
       "  {'n_estimators': 10,\n",
       "   'min_samples_split': 2,\n",
       "   'min_samples_leaf': 1,\n",
       "   'max_features': 'log2',\n",
       "   'max_depth': 50,\n",
       "   'bootstrap': False},\n",
       "  {'n_estimators': 74,\n",
       "   'min_samples_split': 5,\n",
       "   'min_samples_leaf': 4,\n",
       "   'max_features': 'sqrt',\n",
       "   'max_depth': 110,\n",
       "   'bootstrap': True},\n",
       "  {'n_estimators': 10,\n",
       "   'min_samples_split': 2,\n",
       "   'min_samples_leaf': 4,\n",
       "   'max_features': 'log2',\n",
       "   'max_depth': 30,\n",
       "   'bootstrap': False},\n",
       "  {'n_estimators': 267,\n",
       "   'min_samples_split': 2,\n",
       "   'min_samples_leaf': 4,\n",
       "   'max_features': 'sqrt',\n",
       "   'max_depth': 20,\n",
       "   'bootstrap': False},\n",
       "  {'n_estimators': 42,\n",
       "   'min_samples_split': 2,\n",
       "   'min_samples_leaf': 1,\n",
       "   'max_features': 'log2',\n",
       "   'max_depth': 80,\n",
       "   'bootstrap': False},\n",
       "  {'n_estimators': 106,\n",
       "   'min_samples_split': 2,\n",
       "   'min_samples_leaf': 2,\n",
       "   'max_features': 'auto',\n",
       "   'max_depth': 10,\n",
       "   'bootstrap': False},\n",
       "  {'n_estimators': 10,\n",
       "   'min_samples_split': 5,\n",
       "   'min_samples_leaf': 1,\n",
       "   'max_features': 'auto',\n",
       "   'max_depth': 110,\n",
       "   'bootstrap': False},\n",
       "  {'n_estimators': 74,\n",
       "   'min_samples_split': 5,\n",
       "   'min_samples_leaf': 1,\n",
       "   'max_features': 'auto',\n",
       "   'max_depth': 60,\n",
       "   'bootstrap': True},\n",
       "  {'n_estimators': 10,\n",
       "   'min_samples_split': 2,\n",
       "   'min_samples_leaf': 1,\n",
       "   'max_features': 'sqrt',\n",
       "   'max_depth': 20,\n",
       "   'bootstrap': True},\n",
       "  {'n_estimators': 267,\n",
       "   'min_samples_split': 5,\n",
       "   'min_samples_leaf': 2,\n",
       "   'max_features': 'sqrt',\n",
       "   'max_depth': 50,\n",
       "   'bootstrap': True},\n",
       "  {'n_estimators': 235,\n",
       "   'min_samples_split': 5,\n",
       "   'min_samples_leaf': 4,\n",
       "   'max_features': 'log2',\n",
       "   'max_depth': 50,\n",
       "   'bootstrap': True},\n",
       "  {'n_estimators': 138,\n",
       "   'min_samples_split': 2,\n",
       "   'min_samples_leaf': 2,\n",
       "   'max_features': 'auto',\n",
       "   'max_depth': 50,\n",
       "   'bootstrap': True},\n",
       "  {'n_estimators': 10,\n",
       "   'min_samples_split': 5,\n",
       "   'min_samples_leaf': 1,\n",
       "   'max_features': 'sqrt',\n",
       "   'max_depth': 10,\n",
       "   'bootstrap': True},\n",
       "  {'n_estimators': 300,\n",
       "   'min_samples_split': 2,\n",
       "   'min_samples_leaf': 4,\n",
       "   'max_features': 'sqrt',\n",
       "   'max_depth': 50,\n",
       "   'bootstrap': True},\n",
       "  {'n_estimators': 267,\n",
       "   'min_samples_split': 2,\n",
       "   'min_samples_leaf': 4,\n",
       "   'max_features': 'auto',\n",
       "   'max_depth': 80,\n",
       "   'bootstrap': False}],\n",
       " 'split0_test_score': array([-20177.22456225, -18548.67664767, -18784.78989203, -19709.3556962 ,\n",
       "        -19683.4158283 , -18702.95318881, -17899.51359551, -18633.69207816,\n",
       "        -19043.69557532, -20070.51179872, -25950.03306126, -17122.02950774,\n",
       "        -24258.46816757, -21531.17221289, -18411.28022121, -20143.74329922,\n",
       "        -21186.12886779, -26098.19056843, -20049.22258828, -18804.22829096,\n",
       "        -17726.03599325, -20059.36751055, -20547.7656852 , -17937.73038872,\n",
       "        -19692.0864378 , -20789.87085167, -25318.60905803, -23334.22982273,\n",
       "        -18548.67664767, -21451.87261823, -19110.51756234, -17937.73038872,\n",
       "        -19171.02687199, -17122.02950774, -18581.3722601 , -21573.01729958,\n",
       "        -18959.62219285, -21494.76457763, -17914.17931002, -20137.08358449,\n",
       "        -25370.47236937, -25470.79287975, -18677.6088776 , -19823.98194914,\n",
       "        -17757.46249417, -21375.26300425, -18444.2335562 , -20460.00503279,\n",
       "        -18804.22829096, -24257.64435559]),\n",
       " 'split1_test_score': array([-20625.08319495, -19248.10469564, -18203.00063185, -18434.85126582,\n",
       "        -20061.89908164, -19379.70746095, -18001.2989369 , -18143.38687836,\n",
       "        -18374.65383738, -20936.8344777 , -23747.00897876, -17238.47536568,\n",
       "        -25852.2630648 , -21840.38515052, -18239.51712197, -21169.70362305,\n",
       "        -21570.88472222, -23584.97406256, -20685.84311899, -19603.74103963,\n",
       "        -18059.04426251, -20267.50675105, -20820.81545351, -18453.70416106,\n",
       "        -19734.19695785, -20413.78437282, -24561.2950281 , -25652.26553029,\n",
       "        -19248.10469564, -21927.55210399, -17747.5299243 , -18453.70416106,\n",
       "        -17641.67611456, -17238.47536568, -18083.63275368, -21300.16898734,\n",
       "        -19860.87443708, -24146.12503819, -18710.46660806, -18791.52978702,\n",
       "        -23675.58494212, -24669.15072082, -17862.27091917, -20105.30511322,\n",
       "        -18613.67335905, -21870.94403852, -17755.48975391, -21024.49090875,\n",
       "        -19603.74103963, -25853.49720394]),\n",
       " 'split2_test_score': array([-20524.88386262, -18765.50402201, -19068.01345355, -21046.71413502,\n",
       "        -19494.32818996, -18754.29663266, -17538.24475701, -19092.07667402,\n",
       "        -18351.389212  , -19857.84971514, -27893.41359956, -17430.52719409,\n",
       "        -27153.10159258, -21376.4944457 , -17647.69897017, -20377.70363224,\n",
       "        -20556.89732771, -27558.60376827, -19769.89978423, -19282.64106781,\n",
       "        -18605.12144055, -19275.30274262, -20685.5600453 , -17918.576595  ,\n",
       "        -19833.72860395, -20937.47330523, -28204.47953586, -24367.00049615,\n",
       "        -18765.50402201, -21264.53197787, -19354.85008017, -17918.576595  ,\n",
       "        -19535.5993098 , -17430.52719409, -19079.46076376, -20803.85822785,\n",
       "        -19695.72158785, -21785.15282005, -18156.70683397, -18720.95604782,\n",
       "        -27369.78017035, -28151.19127989, -18954.22038353, -19834.36791204,\n",
       "        -18282.56401948, -21399.72038583, -19134.48893909, -20898.53741378,\n",
       "        -19282.64106781, -27154.2791483 ]),\n",
       " 'mean_test_score': array([-20442.39720661, -18854.09512177, -18685.26799248, -19730.30703235,\n",
       "        -19746.54769997, -18945.65242747, -17813.01909647, -18623.05187685,\n",
       "        -18589.9128749 , -20288.39866385, -25863.48521319, -17263.67735584,\n",
       "        -25754.61094165, -21582.68393637, -18099.49877112, -20563.7168515 ,\n",
       "        -21104.63697257, -25747.25613309, -20168.3218305 , -19230.20346613,\n",
       "        -18130.0672321 , -19867.39233474, -20684.713728  , -18103.33704826,\n",
       "        -19753.3373332 , -20713.7095099 , -26028.127874  , -24451.16528306,\n",
       "        -18854.09512177, -21547.98556669, -18737.63252227, -18103.33704826,\n",
       "        -18782.76743212, -17263.67735584, -18581.48859252, -21225.68150492,\n",
       "        -19505.40607259, -22475.34747862, -18260.45091735, -19216.52313978,\n",
       "        -25471.94582728, -26097.04496015, -18498.03339343, -19921.2183248 ,\n",
       "        -18217.89995757, -21548.6424762 , -18444.7374164 , -20794.34445177,\n",
       "        -19230.20346613, -25755.14023594]),\n",
       " 'std_test_score': array([ 191.91556309,  292.33107463,  360.08355678, 1066.39146369,\n",
       "         235.97090808,  307.63817099,  198.68864613,  387.37405911,\n",
       "         321.01335912,  466.66050755, 1693.86849497,  127.19816784,\n",
       "        1183.74479771,  192.85355367,  327.07586854,  439.0135418 ,\n",
       "         417.95000163, 1641.09709096,  383.29842181,  328.49904655,\n",
       "         362.38193716,  427.20646818,  111.47370746,  247.87033203,\n",
       "          59.38794089,  220.47363707, 1569.6626075 ,  948.20362402,\n",
       "         292.33107463,  279.07847888,  707.17841252,  247.87033203,\n",
       "         820.48575525,  127.19816784,  406.54509103,  318.39462745,\n",
       "         391.77280699, 1187.35127434,  333.25714934,  651.57184942,\n",
       "        1509.85479281, 1488.91355579,  463.51837365,  130.23805463,\n",
       "         352.52455419,  228.12023684,  562.97417264,  241.94104797,\n",
       "         328.49904655, 1184.58961964]),\n",
       " 'rank_test_score': array([32, 18, 15, 25, 26, 20,  3, 14, 13, 31, 48,  1, 46, 41,  4, 33, 37,\n",
       "        45, 30, 22,  7, 28, 34,  5, 27, 35, 49, 43, 18, 39, 16,  5, 17,  1,\n",
       "        12, 38, 24, 42,  9, 21, 44, 50, 11, 29,  8, 40, 10, 36, 22, 47],\n",
       "       dtype=int32),\n",
       " 'split0_train_score': array([-1.50791787e+04, -7.11695016e+03, -1.04785825e+04, -7.82453565e+03,\n",
       "        -1.32224310e+04, -1.03062350e+04, -5.99325856e+03, -1.04440584e+04,\n",
       "        -5.34553541e-01, -1.43354100e+04, -4.86742970e+03, -9.72222222e-01,\n",
       "        -1.04652756e+04, -1.75403201e+04, -6.22511253e+03, -1.52436269e+04,\n",
       "        -6.15289638e+03, -5.95622358e+03, -1.42754589e+04, -1.42434126e+04,\n",
       "        -8.96604212e+03, -0.00000000e+00, -1.41341877e+04, -4.83673740e+03,\n",
       "        -7.30976649e+03, -1.28791855e+04, -4.39569392e+03, -1.86963962e+04,\n",
       "        -7.11695016e+03, -1.73869892e+04, -8.30456628e+03, -4.83673740e+03,\n",
       "        -8.05579449e+03, -9.72222222e-01, -8.78461629e+03, -4.21940928e-01,\n",
       "        -1.44030174e+04, -1.60720801e+04, -1.07713007e+04, -9.41832429e-01,\n",
       "        -7.46573080e+03, -4.37473752e+03, -7.78023469e+03, -9.48232268e+03,\n",
       "        -1.07870488e+04, -1.73518694e+04, -7.84093619e+03, -1.32155694e+04,\n",
       "        -1.42434126e+04, -1.04652756e+04]),\n",
       " 'split1_train_score': array([-1.48028108e+04, -7.06821063e+03, -1.04589908e+04, -8.30150475e+03,\n",
       "        -1.31928921e+04, -1.02640441e+04, -5.91921683e+03, -1.04321892e+04,\n",
       "        -3.66347360e+00, -1.44443463e+04, -4.82060267e+03, -1.14627286e+00,\n",
       "        -1.09282225e+04, -1.74939113e+04, -6.19009207e+03, -1.54220606e+04,\n",
       "        -6.25824253e+03, -5.65474762e+03, -1.42522772e+04, -1.40763176e+04,\n",
       "        -8.91428160e+03, -2.42616034e+00, -1.41820454e+04, -4.82321534e+03,\n",
       "        -7.69939538e+03, -1.23517698e+04, -3.87816168e+03, -2.01209333e+04,\n",
       "        -7.06821063e+03, -1.74638361e+04, -8.33817614e+03, -4.82321534e+03,\n",
       "        -8.02664235e+03, -1.14627286e+00, -8.68908830e+03, -2.74261603e+00,\n",
       "        -1.43514262e+04, -1.69953043e+04, -1.06082263e+04, -8.03697006e-01,\n",
       "        -7.82260717e+03, -3.86439803e+03, -7.82260926e+03, -8.61513112e+03,\n",
       "        -1.06659752e+04, -1.73828736e+04, -7.75387882e+03, -1.32041804e+04,\n",
       "        -1.40763176e+04, -1.09282225e+04]),\n",
       " 'split2_train_score': array([-1.51750255e+04, -7.09502686e+03, -1.02987577e+04, -8.78120928e+03,\n",
       "        -1.28059287e+04, -1.02637354e+04, -6.00936130e+03, -1.02895178e+04,\n",
       "        -2.75829627e+00, -1.44948072e+04, -4.90444736e+03, -8.29817159e-01,\n",
       "        -1.08587892e+04, -1.75931057e+04, -6.32108487e+03, -1.56159838e+04,\n",
       "        -6.22803815e+03, -5.70167278e+03, -1.43440591e+04, -1.42244509e+04,\n",
       "        -9.16471249e+03, -3.05907173e+00, -1.45284419e+04, -4.78710726e+03,\n",
       "        -7.32970661e+03, -1.26925363e+04, -4.13478442e+03, -1.97324273e+04,\n",
       "        -7.09502686e+03, -1.75418351e+04, -8.40673386e+03, -4.78710726e+03,\n",
       "        -8.07304588e+03, -8.29817159e-01, -8.65163306e+03, -8.17510549e+00,\n",
       "        -1.45129253e+04, -1.61603071e+04, -1.06084620e+04, -4.83473980e+00,\n",
       "        -7.68665891e+03, -4.08511955e+03, -7.59985164e+03, -9.74641008e+03,\n",
       "        -1.07260632e+04, -1.76456436e+04, -7.65518821e+03, -1.34661505e+04,\n",
       "        -1.42244509e+04, -1.08592244e+04]),\n",
       " 'mean_train_score': array([-1.50190050e+04, -7.09339588e+03, -1.04121104e+04, -8.30241656e+03,\n",
       "        -1.30737506e+04, -1.02780048e+04, -5.97394556e+03, -1.03885885e+04,\n",
       "        -2.31877447e+00, -1.44248545e+04, -4.86415991e+03, -9.82770745e-01,\n",
       "        -1.07507624e+04, -1.75424457e+04, -6.24542982e+03, -1.54272238e+04,\n",
       "        -6.21305902e+03, -5.77088133e+03, -1.42905984e+04, -1.41813937e+04,\n",
       "        -9.01501207e+03, -1.82841069e+00, -1.42815584e+04, -4.81568667e+03,\n",
       "        -7.44628949e+03, -1.26411639e+04, -4.13621334e+03, -1.95165856e+04,\n",
       "        -7.09339588e+03, -1.74642201e+04, -8.34982543e+03, -4.81568667e+03,\n",
       "        -8.05182757e+03, -9.82770745e-01, -8.70844588e+03, -3.77988748e+00,\n",
       "        -1.44224563e+04, -1.64092305e+04, -1.06626630e+04, -2.19342308e+00,\n",
       "        -7.65833229e+03, -4.10808503e+03, -7.73423186e+03, -9.28128796e+03,\n",
       "        -1.07263624e+04, -1.74601289e+04, -7.75000107e+03, -1.32953001e+04,\n",
       "        -1.41813937e+04, -1.07509075e+04]),\n",
       " 'std_train_score': array([1.57800695e+02, 1.99312268e+01, 8.05504895e+01, 3.90560906e+02,\n",
       "        1.89762245e+02, 1.99621386e+01, 3.92534509e+01, 7.02209458e+01,\n",
       "        1.31464057e+00, 6.65172335e+01, 3.43074483e+01, 1.29407639e-01,\n",
       "        2.03850067e+02, 4.05238385e+01, 5.53737163e+01, 1.52057910e+02,\n",
       "        4.42924644e+01, 1.32449504e+02, 3.89690723e+01, 7.47021934e+01,\n",
       "        1.07942731e+02, 1.31844819e+00, 1.75662969e+02, 2.09491181e+01,\n",
       "        1.79157928e+02, 2.18359275e+02, 2.11284067e+02, 6.01258233e+02,\n",
       "        1.99312268e+01, 6.32161521e+01, 4.25153548e+01, 2.09491181e+01,\n",
       "        1.91507052e+01, 1.29407639e-01, 5.59891200e+01, 3.24908594e+00,\n",
       "        6.73492980e+01, 4.15979045e+02, 7.68185301e+01, 1.86854415e+00,\n",
       "        1.47064573e+02, 2.08977125e+02, 9.65830708e+01, 4.83224751e+02,\n",
       "        4.94285540e+01, 1.31787937e+02, 7.58808515e+01, 1.20898912e+02,\n",
       "        7.47021934e+01, 2.03927029e+02])}"
      ]
     },
     "execution_count": 409,
     "metadata": {},
     "output_type": "execute_result"
    }
   ],
   "source": [
    "random_cv.cv_results_"
   ]
  },
  {
   "cell_type": "code",
   "execution_count": 410,
   "metadata": {},
   "outputs": [],
   "source": [
    "from sklearn.model_selection import GridSearchCV\n",
    "\n",
    "param_grid = {\n",
    "    'bootstrap': [True], \n",
    "    'max_depth': [80, 90, 100, 110], \n",
    "    'max_features': [2, 3], \n",
    "    'min_samples_leaf': [3, 4, 5], \n",
    "    'min_samples_split': [8, 10, 12], \n",
    "    'n_estimators': [100, 200, 300, 1000]\n",
    "}\n",
    "\n",
    "rf = RandomForestRegressor(random_state = 42)\n",
    "grid_search = GridSearchCV(estimator = rf, param_grid = param_grid, cv = 3, n_jobs = None, verbose = 0, return_train_score = True)"
   ]
  },
  {
   "cell_type": "code",
   "execution_count": 411,
   "metadata": {},
   "outputs": [
    {
     "data": {
      "text/plain": [
       "GridSearchCV(cv=3, error_score=nan,\n",
       "             estimator=RandomForestRegressor(bootstrap=True, ccp_alpha=0.0,\n",
       "                                             criterion='mse', max_depth=None,\n",
       "                                             max_features='auto',\n",
       "                                             max_leaf_nodes=None,\n",
       "                                             max_samples=None,\n",
       "                                             min_impurity_decrease=0.0,\n",
       "                                             min_impurity_split=None,\n",
       "                                             min_samples_leaf=1,\n",
       "                                             min_samples_split=2,\n",
       "                                             min_weight_fraction_leaf=0.0,\n",
       "                                             n_estimators=100, n_jobs=None,\n",
       "                                             oob_score=False, random_state=42,\n",
       "                                             verbose=0, warm_start=False),\n",
       "             iid='deprecated', n_jobs=None,\n",
       "             param_grid={'bootstrap': [True], 'max_depth': [80, 90, 100, 110],\n",
       "                         'max_features': [2, 3], 'min_samples_leaf': [3, 4, 5],\n",
       "                         'min_samples_split': [8, 10, 12],\n",
       "                         'n_estimators': [100, 200, 300, 1000]},\n",
       "             pre_dispatch='2*n_jobs', refit=True, return_train_score=True,\n",
       "             scoring=None, verbose=0)"
      ]
     },
     "execution_count": 411,
     "metadata": {},
     "output_type": "execute_result"
    }
   ],
   "source": [
    "grid_search.fit(X_train, y_train)"
   ]
  },
  {
   "cell_type": "code",
   "execution_count": 412,
   "metadata": {},
   "outputs": [
    {
     "data": {
      "text/plain": [
       "{'bootstrap': True,\n",
       " 'max_depth': 80,\n",
       " 'max_features': 3,\n",
       " 'min_samples_leaf': 3,\n",
       " 'min_samples_split': 10,\n",
       " 'n_estimators': 100}"
      ]
     },
     "execution_count": 412,
     "metadata": {},
     "output_type": "execute_result"
    }
   ],
   "source": [
    "grid_search.best_params_"
   ]
  },
  {
   "cell_type": "code",
   "execution_count": 413,
   "metadata": {},
   "outputs": [
    {
     "name": "stdout",
     "output_type": "stream",
     "text": [
      "RandomForestRegressor(bootstrap=True, ccp_alpha=0.0, criterion='mse',\n",
      "                      max_depth=80, max_features=3, max_leaf_nodes=None,\n",
      "                      max_samples=None, min_impurity_decrease=0.0,\n",
      "                      min_impurity_split=None, min_samples_leaf=3,\n",
      "                      min_samples_split=10, min_weight_fraction_leaf=0.0,\n",
      "                      n_estimators=100, n_jobs=None, oob_score=False,\n",
      "                      random_state=42, verbose=0, warm_start=False)\n",
      "0.6836011627278836\n"
     ]
    }
   ],
   "source": [
    "best_grid = grid_search.best_estimator_\n",
    "best_grid_score =  grid_search.best_score_\n",
    "print(best_grid)\n",
    "print(best_grid_score)"
   ]
  },
  {
   "cell_type": "code",
   "execution_count": null,
   "metadata": {},
   "outputs": [],
   "source": []
  },
  {
   "cell_type": "code",
   "execution_count": 414,
   "metadata": {},
   "outputs": [],
   "source": [
    "import pickle\n",
    "filename = 'finalizedrfrmodel.pkl'\n",
    "pickle.dump(rf, open(filename, 'wb'))"
   ]
  },
  {
   "cell_type": "code",
   "execution_count": 415,
   "metadata": {},
   "outputs": [
    {
     "data": {
      "text/plain": [
       "(1459, 176)"
      ]
     },
     "execution_count": 415,
     "metadata": {},
     "output_type": "execute_result"
    }
   ],
   "source": [
    "df_test.shape"
   ]
  },
  {
   "cell_type": "code",
   "execution_count": null,
   "metadata": {},
   "outputs": [],
   "source": []
  },
  {
   "cell_type": "code",
   "execution_count": 416,
   "metadata": {},
   "outputs": [],
   "source": [
    "y_pred = best_grid.predict(df_test.drop(['SalePrice'], axis = 1))"
   ]
  },
  {
   "cell_type": "code",
   "execution_count": null,
   "metadata": {},
   "outputs": [],
   "source": []
  },
  {
   "cell_type": "code",
   "execution_count": 417,
   "metadata": {},
   "outputs": [
    {
     "data": {
      "text/plain": [
       "array([142514.44590963, 157744.48978655, 198049.65783241, ...,\n",
       "       170951.05552187, 152601.01190823, 219408.21818531])"
      ]
     },
     "execution_count": 417,
     "metadata": {},
     "output_type": "execute_result"
    }
   ],
   "source": [
    "y_pred"
   ]
  },
  {
   "cell_type": "code",
   "execution_count": 418,
   "metadata": {},
   "outputs": [],
   "source": [
    "#pred = pd.DataFrame(y_pred)\n",
    "#datasets.to_csv('y_pred', index = False)\n",
    "#sub_df = df_test\n",
    "#datasets = pd.concat([sub_df['Id'], pred], axis = 1)\n",
    "#datasets.columns = ['Id', 'SalePrice']\n",
    "#datasets.to_csv('y_pred', index = False)"
   ]
  },
  {
   "cell_type": "code",
   "execution_count": 419,
   "metadata": {},
   "outputs": [
    {
     "name": "stdout",
     "output_type": "stream",
     "text": [
      "[142514.44590963 157744.48978655 198049.65783241 ... 170951.05552187\n",
      " 152601.01190823 219408.21818531]\n"
     ]
    }
   ],
   "source": [
    "print(y_pred)"
   ]
  },
  {
   "cell_type": "code",
   "execution_count": 420,
   "metadata": {},
   "outputs": [
    {
     "data": {
      "text/plain": [
       "(1459,)"
      ]
     },
     "execution_count": 420,
     "metadata": {},
     "output_type": "execute_result"
    }
   ],
   "source": [
    "y_pred.shape"
   ]
  },
  {
   "cell_type": "code",
   "execution_count": 421,
   "metadata": {},
   "outputs": [],
   "source": [
    "#finalizedxgbmodel.csv = y_pred.to_csv(r'finalizedxgbmodel.csv')\n",
    "\n",
    "# save numpy array as csv file\n",
    "from numpy import asarray\n",
    "from numpy import savetxt\n",
    "# define data\n",
    "data = y_pred\n",
    "# save to csv file\n",
    "savetxt('finalizedrfrpred.csv', data, delimiter=',')"
   ]
  },
  {
   "cell_type": "code",
   "execution_count": 422,
   "metadata": {},
   "outputs": [
    {
     "data": {
      "text/plain": [
       "0       1461\n",
       "1       1462\n",
       "2       1463\n",
       "3       1464\n",
       "4       1465\n",
       "        ... \n",
       "1454    2915\n",
       "1455    2916\n",
       "1456    2917\n",
       "1457    2918\n",
       "1458    2919\n",
       "Name: Id, Length: 1459, dtype: int64"
      ]
     },
     "execution_count": 422,
     "metadata": {},
     "output_type": "execute_result"
    }
   ],
   "source": [
    "df_test.Id"
   ]
  },
  {
   "cell_type": "code",
   "execution_count": 423,
   "metadata": {},
   "outputs": [],
   "source": [
    "df_1 = pd.read_csv('finalizedrfrpred.csv', names = ['SalePrice'])\n",
    "df_1['Id'] = df_test['Id']\n",
    "\n",
    "#convert df_1 id column from float to int(and swap the order of columns sale price and Id if possible (df1))"
   ]
  },
  {
   "cell_type": "code",
   "execution_count": 424,
   "metadata": {},
   "outputs": [
    {
     "data": {
      "text/plain": [
       "Index(['SalePrice', 'Id'], dtype='object')"
      ]
     },
     "execution_count": 424,
     "metadata": {},
     "output_type": "execute_result"
    }
   ],
   "source": [
    "df_1.columns"
   ]
  },
  {
   "cell_type": "code",
   "execution_count": 425,
   "metadata": {},
   "outputs": [
    {
     "data": {
      "text/html": [
       "<div>\n",
       "<style scoped>\n",
       "    .dataframe tbody tr th:only-of-type {\n",
       "        vertical-align: middle;\n",
       "    }\n",
       "\n",
       "    .dataframe tbody tr th {\n",
       "        vertical-align: top;\n",
       "    }\n",
       "\n",
       "    .dataframe thead th {\n",
       "        text-align: right;\n",
       "    }\n",
       "</style>\n",
       "<table border=\"1\" class=\"dataframe\">\n",
       "  <thead>\n",
       "    <tr style=\"text-align: right;\">\n",
       "      <th></th>\n",
       "      <th>SalePrice</th>\n",
       "      <th>Id</th>\n",
       "    </tr>\n",
       "  </thead>\n",
       "  <tbody>\n",
       "    <tr>\n",
       "      <th>0</th>\n",
       "      <td>142514.445910</td>\n",
       "      <td>1461</td>\n",
       "    </tr>\n",
       "    <tr>\n",
       "      <th>1</th>\n",
       "      <td>157744.489787</td>\n",
       "      <td>1462</td>\n",
       "    </tr>\n",
       "    <tr>\n",
       "      <th>2</th>\n",
       "      <td>198049.657832</td>\n",
       "      <td>1463</td>\n",
       "    </tr>\n",
       "    <tr>\n",
       "      <th>3</th>\n",
       "      <td>195465.083475</td>\n",
       "      <td>1464</td>\n",
       "    </tr>\n",
       "    <tr>\n",
       "      <th>4</th>\n",
       "      <td>189421.629088</td>\n",
       "      <td>1465</td>\n",
       "    </tr>\n",
       "  </tbody>\n",
       "</table>\n",
       "</div>"
      ],
      "text/plain": [
       "       SalePrice    Id\n",
       "0  142514.445910  1461\n",
       "1  157744.489787  1462\n",
       "2  198049.657832  1463\n",
       "3  195465.083475  1464\n",
       "4  189421.629088  1465"
      ]
     },
     "execution_count": 425,
     "metadata": {},
     "output_type": "execute_result"
    }
   ],
   "source": [
    "df_1.head()"
   ]
  },
  {
   "cell_type": "code",
   "execution_count": 426,
   "metadata": {},
   "outputs": [],
   "source": [
    "#ar = pd.read_csv('finalizedxgbpred.csv')\n",
    "#df_1['SalePrice'] = ar\n",
    "df_1['Id'] = df_test['Id']\n"
   ]
  },
  {
   "cell_type": "code",
   "execution_count": 427,
   "metadata": {},
   "outputs": [
    {
     "data": {
      "text/plain": [
       "0       1461\n",
       "1       1462\n",
       "2       1463\n",
       "3       1464\n",
       "4       1465\n",
       "        ... \n",
       "1454    2915\n",
       "1455    2916\n",
       "1456    2917\n",
       "1457    2918\n",
       "1458    2919\n",
       "Name: Id, Length: 1459, dtype: int64"
      ]
     },
     "execution_count": 427,
     "metadata": {},
     "output_type": "execute_result"
    }
   ],
   "source": [
    "df_test['Id']"
   ]
  },
  {
   "cell_type": "code",
   "execution_count": null,
   "metadata": {},
   "outputs": [],
   "source": []
  },
  {
   "cell_type": "code",
   "execution_count": 428,
   "metadata": {},
   "outputs": [
    {
     "data": {
      "text/html": [
       "<div>\n",
       "<style scoped>\n",
       "    .dataframe tbody tr th:only-of-type {\n",
       "        vertical-align: middle;\n",
       "    }\n",
       "\n",
       "    .dataframe tbody tr th {\n",
       "        vertical-align: top;\n",
       "    }\n",
       "\n",
       "    .dataframe thead th {\n",
       "        text-align: right;\n",
       "    }\n",
       "</style>\n",
       "<table border=\"1\" class=\"dataframe\">\n",
       "  <thead>\n",
       "    <tr style=\"text-align: right;\">\n",
       "      <th></th>\n",
       "      <th>SalePrice</th>\n",
       "      <th>Id</th>\n",
       "    </tr>\n",
       "  </thead>\n",
       "  <tbody>\n",
       "    <tr>\n",
       "      <th>0</th>\n",
       "      <td>142514.445910</td>\n",
       "      <td>1461</td>\n",
       "    </tr>\n",
       "    <tr>\n",
       "      <th>1</th>\n",
       "      <td>157744.489787</td>\n",
       "      <td>1462</td>\n",
       "    </tr>\n",
       "    <tr>\n",
       "      <th>2</th>\n",
       "      <td>198049.657832</td>\n",
       "      <td>1463</td>\n",
       "    </tr>\n",
       "    <tr>\n",
       "      <th>3</th>\n",
       "      <td>195465.083475</td>\n",
       "      <td>1464</td>\n",
       "    </tr>\n",
       "    <tr>\n",
       "      <th>4</th>\n",
       "      <td>189421.629088</td>\n",
       "      <td>1465</td>\n",
       "    </tr>\n",
       "  </tbody>\n",
       "</table>\n",
       "</div>"
      ],
      "text/plain": [
       "       SalePrice    Id\n",
       "0  142514.445910  1461\n",
       "1  157744.489787  1462\n",
       "2  198049.657832  1463\n",
       "3  195465.083475  1464\n",
       "4  189421.629088  1465"
      ]
     },
     "execution_count": 428,
     "metadata": {},
     "output_type": "execute_result"
    }
   ],
   "source": [
    "df_1.head()"
   ]
  },
  {
   "cell_type": "code",
   "execution_count": 432,
   "metadata": {},
   "outputs": [
    {
     "data": {
      "text/plain": [
       "0       1461\n",
       "1       1462\n",
       "2       1463\n",
       "3       1464\n",
       "4       1465\n",
       "        ... \n",
       "1454    2915\n",
       "1455    2916\n",
       "1456    2917\n",
       "1457    2918\n",
       "1458    2919\n",
       "Name: Id, Length: 1459, dtype: int64"
      ]
     },
     "execution_count": 432,
     "metadata": {},
     "output_type": "execute_result"
    }
   ],
   "source": [
    "df_1['Id'].astype(int)"
   ]
  },
  {
   "cell_type": "code",
   "execution_count": 434,
   "metadata": {},
   "outputs": [
    {
     "data": {
      "text/html": [
       "<div>\n",
       "<style scoped>\n",
       "    .dataframe tbody tr th:only-of-type {\n",
       "        vertical-align: middle;\n",
       "    }\n",
       "\n",
       "    .dataframe tbody tr th {\n",
       "        vertical-align: top;\n",
       "    }\n",
       "\n",
       "    .dataframe thead th {\n",
       "        text-align: right;\n",
       "    }\n",
       "</style>\n",
       "<table border=\"1\" class=\"dataframe\">\n",
       "  <thead>\n",
       "    <tr style=\"text-align: right;\">\n",
       "      <th></th>\n",
       "      <th>SalePrice</th>\n",
       "      <th>Id</th>\n",
       "    </tr>\n",
       "  </thead>\n",
       "  <tbody>\n",
       "    <tr>\n",
       "      <th>0</th>\n",
       "      <td>142514.445910</td>\n",
       "      <td>1461</td>\n",
       "    </tr>\n",
       "    <tr>\n",
       "      <th>1</th>\n",
       "      <td>157744.489787</td>\n",
       "      <td>1462</td>\n",
       "    </tr>\n",
       "    <tr>\n",
       "      <th>2</th>\n",
       "      <td>198049.657832</td>\n",
       "      <td>1463</td>\n",
       "    </tr>\n",
       "    <tr>\n",
       "      <th>3</th>\n",
       "      <td>195465.083475</td>\n",
       "      <td>1464</td>\n",
       "    </tr>\n",
       "    <tr>\n",
       "      <th>4</th>\n",
       "      <td>189421.629088</td>\n",
       "      <td>1465</td>\n",
       "    </tr>\n",
       "  </tbody>\n",
       "</table>\n",
       "</div>"
      ],
      "text/plain": [
       "       SalePrice    Id\n",
       "0  142514.445910  1461\n",
       "1  157744.489787  1462\n",
       "2  198049.657832  1463\n",
       "3  195465.083475  1464\n",
       "4  189421.629088  1465"
      ]
     },
     "execution_count": 434,
     "metadata": {},
     "output_type": "execute_result"
    }
   ],
   "source": [
    "df_1.head()"
   ]
  },
  {
   "cell_type": "code",
   "execution_count": 435,
   "metadata": {},
   "outputs": [],
   "source": [
    "df_1.to_csv('kag_sub_2_fin.csv', index = False)"
   ]
  },
  {
   "cell_type": "code",
   "execution_count": 429,
   "metadata": {},
   "outputs": [
    {
     "data": {
      "text/plain": [
       "(1459, 2)"
      ]
     },
     "execution_count": 429,
     "metadata": {},
     "output_type": "execute_result"
    }
   ],
   "source": [
    "df_1.shape"
   ]
  },
  {
   "cell_type": "code",
   "execution_count": 430,
   "metadata": {},
   "outputs": [],
   "source": [
    "#sub_df = pd.read_csv('finalizedxgbpred.csv')\n",
    "#datasets = pd.concat([sub_df['Id'], y_pred], axis = 1)\n",
    "#datasets.columns = ['Id', 'SalePrice']\n",
    "#datasets.to_csv(r'finalizedxgbmodel.csv', index = False)"
   ]
  },
  {
   "cell_type": "code",
   "execution_count": 431,
   "metadata": {},
   "outputs": [
    {
     "data": {
      "text/plain": [
       "(1459,)"
      ]
     },
     "execution_count": 431,
     "metadata": {},
     "output_type": "execute_result"
    }
   ],
   "source": [
    "y_pred.shape"
   ]
  }
 ],
 "metadata": {
  "kernelspec": {
   "display_name": "Python 3",
   "language": "python",
   "name": "python3"
  },
  "language_info": {
   "codemirror_mode": {
    "name": "ipython",
    "version": 3
   },
   "file_extension": ".py",
   "mimetype": "text/x-python",
   "name": "python",
   "nbconvert_exporter": "python",
   "pygments_lexer": "ipython3",
   "version": "3.7.6"
  }
 },
 "nbformat": 4,
 "nbformat_minor": 4
}
